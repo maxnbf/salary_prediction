{
 "cells": [
  {
   "cell_type": "code",
   "execution_count": 84,
   "metadata": {},
   "outputs": [],
   "source": [
    "import pandas as pd\n",
    "from sklearn.feature_extraction.text import TfidfVectorizer\n",
    "from sklearn.model_selection import train_test_split\n",
    "import utilities.data_utils as utility\n",
    "from keras.models import Sequential\n",
    "from keras.layers import Dense\n",
    "import matplotlib.pyplot as plt"
   ]
  },
  {
   "cell_type": "markdown",
   "metadata": {},
   "source": [
    "# Neural Network"
   ]
  },
  {
   "cell_type": "markdown",
   "metadata": {},
   "source": [
    "For the neural network we will use the `downsampled_df` that was created from the experiments on Linear Regression"
   ]
  },
  {
   "cell_type": "code",
   "execution_count": 85,
   "metadata": {},
   "outputs": [
    {
     "data": {
      "text/html": [
       "<div>\n",
       "<style scoped>\n",
       "    .dataframe tbody tr th:only-of-type {\n",
       "        vertical-align: middle;\n",
       "    }\n",
       "\n",
       "    .dataframe tbody tr th {\n",
       "        vertical-align: top;\n",
       "    }\n",
       "\n",
       "    .dataframe thead th {\n",
       "        text-align: right;\n",
       "    }\n",
       "</style>\n",
       "<table border=\"1\" class=\"dataframe\">\n",
       "  <thead>\n",
       "    <tr style=\"text-align: right;\">\n",
       "      <th></th>\n",
       "      <th>Unnamed: 0</th>\n",
       "      <th>description</th>\n",
       "      <th>annual_salary</th>\n",
       "    </tr>\n",
       "  </thead>\n",
       "  <tbody>\n",
       "    <tr>\n",
       "      <th>0</th>\n",
       "      <td>0</td>\n",
       "      <td>Employment Type Regular Location ESCONDIDO CA ...</td>\n",
       "      <td>46870.0</td>\n",
       "    </tr>\n",
       "    <tr>\n",
       "      <th>1</th>\n",
       "      <td>1</td>\n",
       "      <td>Roessel Joy partnered health services company ...</td>\n",
       "      <td>44000.0</td>\n",
       "    </tr>\n",
       "    <tr>\n",
       "      <th>2</th>\n",
       "      <td>2</td>\n",
       "      <td>Description Overview Starting Pay hour Additio...</td>\n",
       "      <td>31000.0</td>\n",
       "    </tr>\n",
       "    <tr>\n",
       "      <th>3</th>\n",
       "      <td>3</td>\n",
       "      <td>Company Description Headquartered Southern Cal...</td>\n",
       "      <td>42560.0</td>\n",
       "    </tr>\n",
       "    <tr>\n",
       "      <th>4</th>\n",
       "      <td>4</td>\n",
       "      <td>Posting Details Job Title Child Life Specialis...</td>\n",
       "      <td>49090.0</td>\n",
       "    </tr>\n",
       "  </tbody>\n",
       "</table>\n",
       "</div>"
      ],
      "text/plain": [
       "   Unnamed: 0                                        description  \\\n",
       "0           0  Employment Type Regular Location ESCONDIDO CA ...   \n",
       "1           1  Roessel Joy partnered health services company ...   \n",
       "2           2  Description Overview Starting Pay hour Additio...   \n",
       "3           3  Company Description Headquartered Southern Cal...   \n",
       "4           4  Posting Details Job Title Child Life Specialis...   \n",
       "\n",
       "   annual_salary  \n",
       "0        46870.0  \n",
       "1        44000.0  \n",
       "2        31000.0  \n",
       "3        42560.0  \n",
       "4        49090.0  "
      ]
     },
     "execution_count": 85,
     "metadata": {},
     "output_type": "execute_result"
    }
   ],
   "source": [
    "# read the dataset\n",
    "df = pd.read_csv(\"data/downsampled_df.csv\")\n",
    "df.head()"
   ]
  },
  {
   "cell_type": "markdown",
   "metadata": {},
   "source": [
    "To run experiments with neural networks, we create a generic function that allows us to easily change the configuration of the network. We abstract the input shape, number of hidden layers, the hidden units in each layer, and the activation function for each layer"
   ]
  },
  {
   "cell_type": "code",
   "execution_count": 86,
   "metadata": {},
   "outputs": [],
   "source": [
    "# define the function for FFN in order to change the parameters easily\n",
    "def create_ffn(input_shape, num_layers, hidden_units, activation_function):\n",
    "    \"\"\"\n",
    "    Create a Feedforward Neural Network with customizable architecture.\n",
    "\n",
    "    Parameters:\n",
    "    - input_shape: Tuple representing the shape of the input data.\n",
    "    - num_layers: Integer, the number of hidden layers in the network.\n",
    "    - hidden_units: List of integers, each representing the number of units in each hidden layer.\n",
    "    - activation_function: String representing the activation function for each hidden layer.\n",
    "\n",
    "    Returns:\n",
    "    - model: A Keras Sequential model with the specified architecture.\n",
    "    \"\"\"\n",
    "\n",
    "    # Initialize the model\n",
    "    model = Sequential()\n",
    "\n",
    "    # Add the input layer\n",
    "    model.add(Dense(hidden_units[0], activation=activation_function, input_shape=input_shape))\n",
    "\n",
    "    # Add hidden layers\n",
    "    for i in range(1, num_layers):\n",
    "        model.add(Dense(hidden_units[i], activation=activation_function))\n",
    "\n",
    "    # Add output layer\n",
    "    model.add(Dense(1))  # Assuming a single output unit for a regression task\n",
    "\n",
    "    return model"
   ]
  },
  {
   "cell_type": "markdown",
   "metadata": {},
   "source": [
    "## TF-IDF\n",
    "\n",
    "Based on the experiments with linear regression, we will only use TF-IDF vectorization for the neural network, with a `max_df` of .25"
   ]
  },
  {
   "cell_type": "code",
   "execution_count": 87,
   "metadata": {},
   "outputs": [],
   "source": [
    "tfidf = TfidfVectorizer(max_df = .25, min_df = 1)\n",
    "\n",
    "X = tfidf.fit_transform(df['description']).toarray()\n",
    "y = df['annual_salary'].values\n",
    "\n",
    "X_train, X_test, y_train, y_test = train_test_split(X, y, test_size=0.2, random_state=42)\n"
   ]
  },
  {
   "cell_type": "markdown",
   "metadata": {},
   "source": [
    "Here we verify a vocabulary was created, by checking the size of the vocabulary, and a sample of the first five tokens"
   ]
  },
  {
   "cell_type": "code",
   "execution_count": 88,
   "metadata": {},
   "outputs": [
    {
     "name": "stdout",
     "output_type": "stream",
     "text": [
      "Size of vocabulary: 38774\n",
      "['type', 'regular', 'escondido', 'ca', 'ever']\n"
     ]
    }
   ],
   "source": [
    "vocab_size = len(tfidf.vocabulary_)\n",
    "print(\"Size of vocabulary:\", vocab_size)\n",
    "print(list(tfidf.vocabulary_.keys())[0:5])"
   ]
  },
  {
   "cell_type": "markdown",
   "metadata": {},
   "source": [
    "Then we build our first example of a neural network, with four hidden layers with unit size of 64, 128, 32, 32, and a `relu` activation function"
   ]
  },
  {
   "cell_type": "code",
   "execution_count": 89,
   "metadata": {},
   "outputs": [],
   "source": [
    "model = create_ffn(input_shape=(vocab_size,), num_layers=4, hidden_units=[64,128,32,32], activation_function='relu')"
   ]
  },
  {
   "cell_type": "markdown",
   "metadata": {},
   "source": [
    "We compile the model, and fit it to the training data from above, with 10 epochs, a batch size of 32. We then evaluate the model on our metrics defined in the compile."
   ]
  },
  {
   "cell_type": "code",
   "execution_count": 90,
   "metadata": {},
   "outputs": [],
   "source": [
    "\n",
    "model.compile(optimizer='adam', loss='mean_squared_error', metrics=['mean_absolute_error'])\n",
    "\n",
    "history = model.fit(X_train, y_train, epochs=10, batch_size=32)\n",
    "\n",
    "test_loss, test_mae = model.evaluate(X_test, y_test)\n",
    "print(f\"Test Loss: {test_loss}, Test MAE: {test_mae}\")"
   ]
  },
  {
   "cell_type": "markdown",
   "metadata": {},
   "source": [
    "After 10 epochs, the model has an MAE of $25,984 on the training data, and $28,651 on the testing data. This could hint at some minor overfitting which we will try to avoid by not increasing the numer of epochs in future experiments"
   ]
  },
  {
   "cell_type": "markdown",
   "metadata": {},
   "source": [
    "Now we will test four different configurations of the neural network by changing the number of hidden units in each layer. We will continue to use the four hidden layers and `relu` activation function"
   ]
  },
  {
   "cell_type": "code",
   "execution_count": null,
   "metadata": {
    "scrolled": true
   },
   "outputs": [
    {
     "name": "stdout",
     "output_type": "stream",
     "text": [
      "---------------- Settings -------------------\n",
      "hidden layer = 4, hidden_units = 64,128,32,32 , act = relu\n",
      "Epoch 1/10\n",
      "75/75 [==============================] - 0s 2ms/step - loss: 12654931968.0000 - mean_absolute_error: 102880.2188\n",
      "Epoch 2/10\n",
      "75/75 [==============================] - 0s 2ms/step - loss: 12168532992.0000 - mean_absolute_error: 100481.5625\n",
      "Epoch 3/10\n",
      "75/75 [==============================] - 0s 2ms/step - loss: 7281639424.0000 - mean_absolute_error: 71501.6719\n",
      "Epoch 4/10\n",
      "75/75 [==============================] - 0s 2ms/step - loss: 2352847872.0000 - mean_absolute_error: 39503.6250\n",
      "Epoch 5/10\n",
      "75/75 [==============================] - 0s 3ms/step - loss: 2001682944.0000 - mean_absolute_error: 36303.1016\n",
      "Epoch 6/10\n",
      "75/75 [==============================] - 0s 3ms/step - loss: 1768987520.0000 - mean_absolute_error: 34007.2461\n",
      "Epoch 7/10\n",
      "75/75 [==============================] - 0s 3ms/step - loss: 1569800064.0000 - mean_absolute_error: 31784.8340\n",
      "Epoch 8/10\n",
      "75/75 [==============================] - 0s 3ms/step - loss: 1391019520.0000 - mean_absolute_error: 29713.5000\n",
      "Epoch 9/10\n",
      "75/75 [==============================] - 0s 2ms/step - loss: 1232632448.0000 - mean_absolute_error: 27704.8730\n",
      "Epoch 10/10\n",
      "75/75 [==============================] - 0s 2ms/step - loss: 1087865600.0000 - mean_absolute_error: 25788.7871\n",
      "19/19 [==============================] - 0s 1ms/step - loss: 1265905664.0000 - mean_absolute_error: 28540.0566\n",
      "Test Loss: 1265905664.0, Test MAE: 28540.056640625\n",
      "---------------- Settings -------------------\n",
      "hidden layer = 4, hidden_units = 64,128,32,16, act = relu\n",
      "Epoch 1/10\n",
      "75/75 [==============================] - 0s 2ms/step - loss: 12650171392.0000 - mean_absolute_error: 102857.7578\n",
      "Epoch 2/10\n",
      "75/75 [==============================] - 0s 3ms/step - loss: 11591352320.0000 - mean_absolute_error: 97569.5469\n",
      "Epoch 3/10\n",
      "75/75 [==============================] - 0s 3ms/step - loss: 4423467520.0000 - mean_absolute_error: 53085.6875\n",
      "Epoch 4/10\n",
      "75/75 [==============================] - 0s 3ms/step - loss: 2108961920.0000 - mean_absolute_error: 37396.3398\n",
      "Epoch 5/10\n",
      "75/75 [==============================] - 0s 3ms/step - loss: 1787261184.0000 - mean_absolute_error: 34143.1680\n",
      "Epoch 6/10\n",
      "75/75 [==============================] - 0s 2ms/step - loss: 1529327232.0000 - mean_absolute_error: 31379.5840\n",
      "Epoch 7/10\n",
      "75/75 [==============================] - 0s 2ms/step - loss: 1306341376.0000 - mean_absolute_error: 28635.0781\n",
      "Epoch 8/10\n",
      "75/75 [==============================] - 0s 2ms/step - loss: 1109732352.0000 - mean_absolute_error: 26081.4492\n",
      "Epoch 9/10\n",
      "75/75 [==============================] - 0s 2ms/step - loss: 934428928.0000 - mean_absolute_error: 23536.1934\n",
      "Epoch 10/10\n",
      "75/75 [==============================] - 0s 3ms/step - loss: 784381312.0000 - mean_absolute_error: 21247.1055\n",
      "19/19 [==============================] - 0s 1ms/step - loss: 1085676032.0000 - mean_absolute_error: 26015.8340\n",
      "Test Loss: 1085676032.0, Test MAE: 26015.833984375\n",
      "---------------- Settings -------------------\n",
      "hidden layer = 4, hidden_units = 64,128,32,128, act =relu\n",
      "Epoch 1/10\n",
      "75/75 [==============================] - 0s 3ms/step - loss: 12639673344.0000 - mean_absolute_error: 102804.4844\n",
      "Epoch 2/10\n",
      "75/75 [==============================] - 0s 3ms/step - loss: 10344638464.0000 - mean_absolute_error: 90248.2578\n",
      "Epoch 3/10\n",
      "75/75 [==============================] - 0s 2ms/step - loss: 2693116160.0000 - mean_absolute_error: 41881.5078\n",
      "Epoch 4/10\n",
      "75/75 [==============================] - 0s 2ms/step - loss: 1908261120.0000 - mean_absolute_error: 35404.0117\n",
      "Epoch 5/10\n",
      "75/75 [==============================] - 0s 3ms/step - loss: 1553605248.0000 - mean_absolute_error: 31574.2988\n",
      "Epoch 6/10\n",
      "75/75 [==============================] - 0s 2ms/step - loss: 1266389632.0000 - mean_absolute_error: 28208.6387\n",
      "Epoch 7/10\n",
      "75/75 [==============================] - 0s 2ms/step - loss: 1023588608.0000 - mean_absolute_error: 24883.1445\n",
      "Epoch 8/10\n",
      "75/75 [==============================] - 0s 2ms/step - loss: 817761792.0000 - mean_absolute_error: 21809.6113\n",
      "Epoch 9/10\n",
      "75/75 [==============================] - 0s 3ms/step - loss: 645827072.0000 - mean_absolute_error: 19009.9824\n",
      "Epoch 10/10\n",
      "75/75 [==============================] - 0s 3ms/step - loss: 508927200.0000 - mean_absolute_error: 16507.0332\n",
      "19/19 [==============================] - 0s 1ms/step - loss: 946184384.0000 - mean_absolute_error: 23958.4395\n",
      "Test Loss: 946184384.0, Test MAE: 23958.439453125\n",
      "---------------- Settings -------------------\n",
      "hidden layer = 4, hidden_units = 128,64,128,32, act = relu\n",
      "Epoch 1/10\n",
      "75/75 [==============================] - 1s 4ms/step - loss: 12639095808.0000 - mean_absolute_error: 102805.7734\n",
      "Epoch 2/10\n",
      "75/75 [==============================] - 0s 4ms/step - loss: 10614409216.0000 - mean_absolute_error: 91881.7188\n",
      "Epoch 3/10\n",
      "75/75 [==============================] - 0s 4ms/step - loss: 2900911360.0000 - mean_absolute_error: 43628.4062\n",
      "Epoch 4/10\n",
      "75/75 [==============================] - 0s 5ms/step - loss: 1957319808.0000 - mean_absolute_error: 35853.2109\n",
      "Epoch 5/10\n",
      "75/75 [==============================] - 0s 5ms/step - loss: 1634929920.0000 - mean_absolute_error: 32563.3516\n",
      "Epoch 6/10\n",
      "75/75 [==============================] - 0s 4ms/step - loss: 1362529408.0000 - mean_absolute_error: 29352.0410\n",
      "Epoch 7/10\n",
      "75/75 [==============================] - 0s 5ms/step - loss: 1136721920.0000 - mean_absolute_error: 26463.4062\n",
      "Epoch 8/10\n",
      "75/75 [==============================] - 0s 5ms/step - loss: 937276032.0000 - mean_absolute_error: 23613.3711\n",
      "Epoch 9/10\n",
      "75/75 [==============================] - 0s 4ms/step - loss: 768664640.0000 - mean_absolute_error: 20884.7031\n",
      "Epoch 10/10\n",
      "75/75 [==============================] - 0s 4ms/step - loss: 622328384.0000 - mean_absolute_error: 18489.0664\n",
      "19/19 [==============================] - 0s 2ms/step - loss: 1003761344.0000 - mean_absolute_error: 24748.7852\n",
      "Test Loss: 1003761344.0, Test MAE: 24748.78515625\n"
     ]
    }
   ],
   "source": [
    "settings = {\n",
    "'hidden layer = 4, hidden_units = 64,128,32,32 , act = relu' : {'hu': [64,128,32,32]},\n",
    "'hidden layer = 4, hidden_units = 64,128,32,16, act = relu': {'hu': [64,128,32,64]},\n",
    "'hidden layer = 4, hidden_units = 64,128,32,128, act =relu': {'hu': [64,128,32,128]},\n",
    "'hidden layer = 4, hidden_units = 128,64,128,32, act = relu': {'hu': [128,64,128,32]}}\n",
    "\n",
    "for setting in settings:\n",
    "    print('---------------- Settings -------------------')\n",
    "    print(setting)\n",
    "\n",
    "    n_layers = len(settings[setting]['hu'])\n",
    "    hidden_size = settings[setting]['hu']\n",
    "\n",
    "    model = create_ffn(input_shape=(vocab_size,), num_layers= n_layers, hidden_units= hidden_size, activation_function='relu')\n",
    "    model.compile(optimizer='adam', loss='mean_squared_error', metrics=['mean_absolute_error'])\n",
    "\n",
    "    history = model.fit(X_train, y_train, epochs=10, batch_size=32)\n",
    "\n",
    "    test_loss, test_mae = model.evaluate(X_test, y_test)\n",
    "    print(f\"Test Loss: {test_loss}, Test MAE: {test_mae}\")"
   ]
  },
  {
   "cell_type": "markdown",
   "metadata": {},
   "source": [
    "We can see by the Mean Absolute Errors on all four models using the testing set, the last configuration provides the best results. We will use this configuration to generate some visualizations."
   ]
  },
  {
   "cell_type": "code",
   "execution_count": null,
   "metadata": {
    "scrolled": true
   },
   "outputs": [
    {
     "name": "stdout",
     "output_type": "stream",
     "text": [
      "Epoch 1/10\n",
      "75/75 [==============================] - 0s 4ms/step - loss: 12630682624.0000 - mean_absolute_error: 102763.4531\n",
      "Epoch 2/10\n",
      "75/75 [==============================] - 0s 4ms/step - loss: 9875388416.0000 - mean_absolute_error: 87538.1250\n",
      "Epoch 3/10\n",
      "75/75 [==============================] - 0s 5ms/step - loss: 2576024832.0000 - mean_absolute_error: 41053.0625\n",
      "Epoch 4/10\n",
      "75/75 [==============================] - 0s 4ms/step - loss: 1873346432.0000 - mean_absolute_error: 34943.9648\n",
      "Epoch 5/10\n",
      "75/75 [==============================] - 0s 4ms/step - loss: 1531975296.0000 - mean_absolute_error: 31332.7695\n",
      "Epoch 6/10\n",
      "75/75 [==============================] - 0s 5ms/step - loss: 1243503616.0000 - mean_absolute_error: 27896.8379\n",
      "Epoch 7/10\n",
      "75/75 [==============================] - 0s 5ms/step - loss: 1001507136.0000 - mean_absolute_error: 24584.7090\n",
      "Epoch 8/10\n",
      "75/75 [==============================] - 0s 5ms/step - loss: 798857280.0000 - mean_absolute_error: 21451.0664\n",
      "Epoch 9/10\n",
      "75/75 [==============================] - 0s 4ms/step - loss: 630028288.0000 - mean_absolute_error: 18633.1660\n",
      "Epoch 10/10\n",
      "75/75 [==============================] - 0s 4ms/step - loss: 490985696.0000 - mean_absolute_error: 16112.9814\n",
      "19/19 [==============================] - 0s 2ms/step - loss: 951369536.0000 - mean_absolute_error: 24035.3457\n",
      "Test Loss: 951369536.0, Test MAE: 24035.345703125\n"
     ]
    }
   ],
   "source": [
    "model = create_ffn(input_shape=(vocab_size,), num_layers=4, hidden_units=[128,64,128,32], activation_function='relu')\n",
    "\n",
    "model.compile(optimizer='adam', loss='mean_squared_error', metrics=['mean_absolute_error'])\n",
    "\n",
    "history = model.fit(X_train, y_train, epochs=10, batch_size=32)\n",
    "\n",
    "test_loss, test_mae = model.evaluate(X_test, y_test)\n",
    "print(f\"Test Loss: {test_loss}, Test MAE: {test_mae}\")"
   ]
  },
  {
   "cell_type": "markdown",
   "metadata": {},
   "source": [
    "Here we extract the MAEs at each epoch and plot them to see how the number of epochs affects the MAE on the training set. "
   ]
  },
  {
   "cell_type": "code",
   "execution_count": null,
   "metadata": {},
   "outputs": [
    {
     "data": {
      "image/png": "[encoded data removed]",
      "text/plain": [
       "<Figure size 640x480 with 1 Axes>"
      ]
     },
     "metadata": {},
     "output_type": "display_data"
    }
   ],
   "source": [
    "mae = history.history['mean_absolute_error']\n",
    "\n",
    "epochs = range(1, len(mae) + 1)\n",
    "\n",
    "plt.plot(epochs, mae, label='Training MAE')\n",
    "\n",
    "plt.title('Epochs vs MAE')\n",
    "plt.xlabel('Epochs')\n",
    "plt.ylabel('MAE')\n",
    "\n",
    "plt.show()"
   ]
  },
  {
   "cell_type": "code",
   "execution_count": null,
   "metadata": {},
   "outputs": [
    {
     "data": {
      "text/plain": [
       "[136515.11, 101261.016, 175348.66, 96356.234, 113481.45]"
      ]
     },
     "execution_count": 82,
     "metadata": {},
     "output_type": "execute_result"
    }
   ],
   "source": [
    "# the predition is list of list, in order to use the utility function, transfer into a single list\n",
    "preds = model.predict(X_test)\n",
    "preds = [pred[0] for pred in preds]\n",
    "preds[0:5]"
   ]
  },
  {
   "cell_type": "markdown",
   "metadata": {},
   "source": [
    "Similar to our other two models, we want to plot the comparison of the predicted salaries of our best models to their target predictions. "
   ]
  },
  {
   "cell_type": "code",
   "execution_count": null,
   "metadata": {
    "scrolled": true
   },
   "outputs": [
    {
     "data": {
      "image/png": "[encoded data removed]",
      "text/plain": [
       "<Figure size 640x480 with 1 Axes>"
      ]
     },
     "metadata": {},
     "output_type": "display_data"
    }
   ],
   "source": [
    "utility.plot_accuracy_in_buckets(y_test, preds)"
   ]
  }
 ],
 "metadata": {
  "kernelspec": {
   "display_name": "Python 3 (ipykernel)",
   "language": "python",
   "name": "python3"
  },
  "language_info": {
   "codemirror_mode": {
    "name": "ipython",
    "version": 3
   },
   "file_extension": ".py",
   "mimetype": "text/x-python",
   "name": "python",
   "nbconvert_exporter": "python",
   "pygments_lexer": "ipython3",
   "version": "3.11.4"
  }
 },
 "nbformat": 4,
 "nbformat_minor": 2
}
