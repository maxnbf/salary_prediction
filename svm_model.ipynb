{
 "cells": [
  {
   "cell_type": "code",
   "execution_count": 10,
   "metadata": {},
   "outputs": [],
   "source": [
    "# imports\n",
    "import numpy as np\n",
    "import pandas as pd\n",
    "\n",
    "from sklearn.model_selection import train_test_split\n",
    "from sklearn.pipeline import make_pipeline\n",
    "from sklearn.preprocessing import StandardScaler\n",
    "from sklearn.svm import SVR\n",
    "import sklearn.metrics as smetrics\n",
    "\n",
    "import matplotlib.pyplot as plt\n",
    "\n",
    "import utilities.data_utils as util\n",
    "import utilities.ML_utilils as ml\n",
    "import utilities.ryan_utils as rutils"
   ]
  },
  {
   "cell_type": "code",
   "execution_count": 11,
   "metadata": {},
   "outputs": [],
   "source": [
    "# importing data for SVR\n",
    "df = pd.read_csv('data/downsampled_df.csv')\n",
    "X_col = df['description'].tolist()\n",
    "y_col = df['annual_salary'].tolist()"
   ]
  },
  {
   "cell_type": "markdown",
   "metadata": {},
   "source": []
  },
  {
   "cell_type": "code",
   "execution_count": 12,
   "metadata": {},
   "outputs": [],
   "source": [
    "# reduce sample size due to quickly increasing training times (2 min for 1000 samples, 12 min for 2000 samples)\n",
    "SAMPLES = 2000 \n",
    "# Applying some text pre-processing\n",
    "X_processed = util.pre_process_descriptions(X_col)\n",
    "X_bow_featurized = ml.featurize_bow(X_processed[0:SAMPLES]).toarray()\n",
    "X_tfidf_featurized = ml.featurize_tfIDF(X_processed[0:SAMPLES], .25, 1).toarray()\n",
    "\n",
    "y_featurized = y_col[0:SAMPLES]"
   ]
  },
  {
   "cell_type": "code",
   "execution_count": 13,
   "metadata": {},
   "outputs": [],
   "source": [
    "# splitting the data for input into our model\n",
    "TEST_SIZE = .2\n",
    "X_BOW_train, X_BOW_test, y_train, y_test = train_test_split(X_bow_featurized, y_featurized, test_size=TEST_SIZE, random_state=42)\n",
    "X_TFIDF_train, X_TFIDF_test, y_train, y_test = train_test_split(X_tfidf_featurized, y_featurized, test_size=TEST_SIZE, random_state=42)"
   ]
  },
  {
   "cell_type": "code",
   "execution_count": 14,
   "metadata": {},
   "outputs": [],
   "source": [
    "#play around with C and Epsilon here - these are the hyperparameters to our model\n",
    "C_VALUES = [1, 10, 100, 250, 500, 750, 1000, 2000, 3000, 4000]"
   ]
  },
  {
   "cell_type": "code",
   "execution_count": 15,
   "metadata": {},
   "outputs": [
    {
     "ename": "ValueError",
     "evalue": "too many values to unpack (expected 2)",
     "output_type": "error",
     "traceback": [
      "\u001b[0;31m---------------------------------------------------------------------------\u001b[0m",
      "\u001b[0;31mValueError\u001b[0m                                Traceback (most recent call last)",
      "\u001b[1;32m/Users/ryan/Documents/northeastern_MSCS/CS6120/salary_prediction_final_project/svm_model.ipynb Cell 7\u001b[0m line \u001b[0;36m2\n\u001b[1;32m      <a href='vscode-notebook-cell:/Users/ryan/Documents/northeastern_MSCS/CS6120/salary_prediction_final_project/svm_model.ipynb#W6sZmlsZQ%3D%3D?line=0'>1</a>\u001b[0m \u001b[39m# All of these models take ~40+ minutes to train\u001b[39;00m\n\u001b[0;32m----> <a href='vscode-notebook-cell:/Users/ryan/Documents/northeastern_MSCS/CS6120/salary_prediction_final_project/svm_model.ipynb#W6sZmlsZQ%3D%3D?line=1'>2</a>\u001b[0m linear_BOW_model, linear_BOW_preds \u001b[39m=\u001b[39m rutils\u001b[39m.\u001b[39mtrain_and_predict_SVR(\u001b[39m'\u001b[39m\u001b[39mlinear\u001b[39m\u001b[39m'\u001b[39m, X_BOW_train, y_train, X_BOW_test, y_test, C_VALUES)\n\u001b[1;32m      <a href='vscode-notebook-cell:/Users/ryan/Documents/northeastern_MSCS/CS6120/salary_prediction_final_project/svm_model.ipynb#W6sZmlsZQ%3D%3D?line=2'>3</a>\u001b[0m poly_BOW_model, poly_BOW_preds \u001b[39m=\u001b[39m rutils\u001b[39m.\u001b[39mtrain_and_predict_SVR(\u001b[39m'\u001b[39m\u001b[39mpoly\u001b[39m\u001b[39m'\u001b[39m, X_BOW_train, y_train, X_BOW_test, y_test, C_VALUES)\n\u001b[1;32m      <a href='vscode-notebook-cell:/Users/ryan/Documents/northeastern_MSCS/CS6120/salary_prediction_final_project/svm_model.ipynb#W6sZmlsZQ%3D%3D?line=3'>4</a>\u001b[0m rbf_BOW_model, rbf_BOW_preds \u001b[39m=\u001b[39m rutils\u001b[39m.\u001b[39mtrain_and_predict_SVR(\u001b[39m'\u001b[39m\u001b[39mrbf\u001b[39m\u001b[39m'\u001b[39m, X_BOW_train, y_train, X_BOW_test, y_test, C_VALUES)\n",
      "\u001b[0;31mValueError\u001b[0m: too many values to unpack (expected 2)"
     ]
    }
   ],
   "source": [
    "# All of these models take ~40+ minutes to train\n",
    "linear_BOW_model, linear_BOW_preds = rutils.train_and_predict_SVR('linear', X_BOW_train, y_train, X_BOW_test, y_test, C_VALUES)\n",
    "poly_BOW_model, poly_BOW_preds = rutils.train_and_predict_SVR('poly', X_BOW_train, y_train, X_BOW_test, y_test, C_VALUES)\n",
    "rbf_BOW_model, rbf_BOW_preds = rutils.train_and_predict_SVR('rbf', X_BOW_train, y_train, X_BOW_test, y_test, C_VALUES)\n",
    "\n",
    "linear_TFIDF_model, linear_TFIDF_preds = rutils.train_and_predict_SVR('linear', X_TFIDF_train, y_train, X_TFIDF_test, y_test, C_VALUES)\n",
    "poly_TFIDF_model, poly_TFIDF_preds = rutils.train_and_predict_SVR('poly', X_TFIDF_train, y_train, X_TFIDF_test, y_test, C_VALUES)\n",
    "rbf_TFIDF_model, rbf_TFIDF_preds = rutils.train_and_predict_SVR('rbf', X_TFIDF_train, y_train, X_TFIDF_test, y_test, C_VALUES)"
   ]
  },
  {
   "cell_type": "code",
   "execution_count": null,
   "metadata": {},
   "outputs": [],
   "source": [
    "def graph_performance_by_error(title, all_preds, y_actual, C_values):\n",
    "    mae = util.get_evaluation_metric(smetrics.mean_absolute_error, all_preds, y_actual)\n",
    "    plt.xlabel(\"SVR C-parameter Value\")\n",
    "    plt.ylabel(\"Mean Average Error in Dollars\")\n",
    "    plt.plot(C_values, mae,  \"-bo\")\n",
    "    plt.title(title)"
   ]
  },
  {
   "cell_type": "code",
   "execution_count": null,
   "metadata": {},
   "outputs": [],
   "source": [
    "TITLE_PREFIX = 'Performance of '\n",
    "model_name = 'Linear BOW SVR model'\n",
    "title = TITLE_PREFIX+model_name\n",
    "rutils.graph_SVR_performance_by_C(title, linear_BOW_preds, y_test, C_VALUES)"
   ]
  },
  {
   "cell_type": "code",
   "execution_count": null,
   "metadata": {},
   "outputs": [],
   "source": [
    "TITLE_PREFIX = 'Mean Absolute Error of '\n",
    "graph_performance_by_error(TITLE_PREFIX+model_name, linear_BOW_preds, y_test, C_VALUES)"
   ]
  },
  {
   "cell_type": "code",
   "execution_count": null,
   "metadata": {},
   "outputs": [],
   "source": [
    "TITLE_PREFIX = 'Performance of '\n",
    "model_name = 'Poly BOW SVR model'\n",
    "rutils.graph_SVR_performance_by_C(TITLE_PREFIX+model_name, poly_BOW_preds, y_test, C_VALUES)"
   ]
  },
  {
   "cell_type": "code",
   "execution_count": null,
   "metadata": {},
   "outputs": [],
   "source": [
    "TITLE_PREFIX = 'Mean Absolute Error of '\n",
    "graph_performance_by_error(TITLE_PREFIX+model_name, poly_BOW_preds, y_test, C_VALUES)"
   ]
  },
  {
   "cell_type": "code",
   "execution_count": null,
   "metadata": {},
   "outputs": [],
   "source": [
    "TITLE_PREFIX = 'Performance of '\n",
    "model_name = 'RBF BOW SVR model'\n",
    "rutils.graph_SVR_performance_by_C(TITLE_PREFIX+model_name, rbf_BOW_preds, y_test, C_VALUES)"
   ]
  },
  {
   "cell_type": "code",
   "execution_count": null,
   "metadata": {},
   "outputs": [],
   "source": [
    "TITLE_PREFIX = 'Mean Absolute Error of '\n",
    "graph_performance_by_error(TITLE_PREFIX+model_name, rbf_BOW_preds, y_test, C_VALUES)"
   ]
  },
  {
   "cell_type": "code",
   "execution_count": null,
   "metadata": {},
   "outputs": [],
   "source": [
    "TITLE_PREFIX = 'Performance of '\n",
    "model_name = 'Linear TF-IDF SVR model'\n",
    "rutils.graph_SVR_performance_by_C(TITLE_PREFIX+model_name, linear_TFIDF_preds, y_test, C_VALUES)"
   ]
  },
  {
   "cell_type": "code",
   "execution_count": null,
   "metadata": {},
   "outputs": [],
   "source": [
    "TITLE_PREFIX = 'Mean Absolute Error of '\n",
    "graph_performance_by_error(TITLE_PREFIX+model_name, linear_TFIDF_preds, y_test, C_VALUES)"
   ]
  },
  {
   "cell_type": "code",
   "execution_count": null,
   "metadata": {},
   "outputs": [],
   "source": [
    "TITLE_PREFIX = 'Performance of '\n",
    "model_name = 'Poly TF-IDF SVR model'\n",
    "rutils.graph_SVR_performance_by_C(TITLE_PREFIX+model_name, poly_TFIDF_preds, y_test, C_VALUES)"
   ]
  },
  {
   "cell_type": "code",
   "execution_count": null,
   "metadata": {},
   "outputs": [],
   "source": [
    "TITLE_PREFIX = 'Mean Absolute Error of '\n",
    "graph_performance_by_error(TITLE_PREFIX+model_name, poly_TFIDF_preds, y_test, C_VALUES)"
   ]
  },
  {
   "cell_type": "code",
   "execution_count": null,
   "metadata": {},
   "outputs": [],
   "source": [
    "model_name = 'RBF TF-IDF SVR model'\n",
    "rutils.graph_SVR_performance_by_C(TITLE_PREFIX+model_name, rbf_TFIDF_preds, y_test, C_VALUES)"
   ]
  },
  {
   "cell_type": "code",
   "execution_count": null,
   "metadata": {},
   "outputs": [],
   "source": [
    "TITLE_PREFIX = 'Mean Absolute Error of '\n",
    "graph_performance_by_error(TITLE_PREFIX+model_name, rbf_TFIDF_preds, y_test, C_VALUES)"
   ]
  },
  {
   "cell_type": "code",
   "execution_count": null,
   "metadata": {},
   "outputs": [],
   "source": [
    "# Take predictions made from SVR model made with the 4th C-value (500), since that seems to yield the\n",
    "# best results for the best model\n",
    "best_model_predictions = linear_BOW_preds[3]\n",
    "# print(best_model_predictions)\n",
    "print(y_test)\n",
    "util.plot_accuracy_in_buckets(y_test, best_model_predictions)"
   ]
  }
 ],
 "metadata": {
  "kernelspec": {
   "display_name": "Python 3",
   "language": "python",
   "name": "python3"
  },
  "language_info": {
   "codemirror_mode": {
    "name": "ipython",
    "version": 3
   },
   "file_extension": ".py",
   "mimetype": "text/x-python",
   "name": "python",
   "nbconvert_exporter": "python",
   "pygments_lexer": "ipython3",
   "version": "3.12.0"
  }
 },
 "nbformat": 4,
 "nbformat_minor": 2
}
