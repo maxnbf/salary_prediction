{
 "cells": [
  {
   "cell_type": "code",
   "execution_count": 71,
   "metadata": {},
   "outputs": [],
   "source": [
    "import joblib\n",
    "import pandas as pd\n",
    "from sklearn.feature_extraction.text import TfidfVectorizer \n",
    "import utilities.data_utils as utility"
   ]
  },
  {
   "cell_type": "code",
   "execution_count": 72,
   "metadata": {},
   "outputs": [],
   "source": [
    "file_path = 'job_desc.txt'\n",
    "with open(file_path, 'r') as file:\n",
    "    file_content = file.read()"
   ]
  },
  {
   "cell_type": "code",
   "execution_count": 73,
   "metadata": {},
   "outputs": [
    {
     "name": "stdout",
     "output_type": "stream",
     "text": [
      "Predicted Salary:  $60794.27\n"
     ]
    }
   ],
   "source": [
    "cleaned_desc = utility.remove_stopwords_numbers_punctionation_and_lemmatize(file_content)\n",
    "\n",
    "df = pd.read_csv(\"data/downsampled_df.csv\")\n",
    "corpus = list(df[\"description\"])\n",
    "tfidf_vectorizer= TfidfVectorizer(max_df=.25) \n",
    "tfidf_vectorizer.fit(corpus) \n",
    "tfidf_matrix = tfidf_vectorizer.transform([cleaned_desc])\n",
    "\n",
    "loaded_model = joblib.load('linear_regression_model.joblib')\n",
    "pred = loaded_model.predict(tfidf_matrix[-1:])[0]\n",
    "formatted_amount = \"${:.2f}\".format(pred)\n",
    "print(\"Predicted Salary: \", formatted_amount)"
   ]
  }
 ],
 "metadata": {
  "kernelspec": {
   "display_name": "base",
   "language": "python",
   "name": "python3"
  },
  "language_info": {
   "codemirror_mode": {
    "name": "ipython",
    "version": 3
   },
   "file_extension": ".py",
   "mimetype": "text/x-python",
   "name": "python",
   "nbconvert_exporter": "python",
   "pygments_lexer": "ipython3",
   "version": "3.11.4"
  },
  "orig_nbformat": 4
 },
 "nbformat": 4,
 "nbformat_minor": 2
}
