{
 "cells": [
  {
   "cell_type": "code",
   "execution_count": 1,
   "metadata": {},
   "outputs": [
    {
     "name": "stderr",
     "output_type": "stream",
     "text": [
      "[nltk_data] Downloading package stopwords to\n",
      "[nltk_data]     C:\\Users\\Admin\\AppData\\Roaming\\nltk_data...\n",
      "[nltk_data]   Unzipping corpora\\stopwords.zip.\n"
     ]
    }
   ],
   "source": [
    "import nltk\n",
    "import pandas as pd\n",
    "import re\n",
    "from nltk.corpus import stopwords\n",
    "from nltk.tokenize import word_tokenize\n",
    "from sklearn.feature_extraction.text import CountVectorizer\n",
    "from collections import Counter \n",
    "from sklearn.linear_model import LinearRegression\n",
    "from string import punctuation\n",
    "from keras.utils import to_categorical\n",
    "from sklearn.model_selection import train_test_split\n",
    "\n",
    "nltk.download(\"stopwords\")\n",
    "\n",
    "stop_words = set(stopwords.words(\"english\"))"
   ]
  },
  {
   "cell_type": "code",
   "execution_count": 2,
   "metadata": {},
   "outputs": [],
   "source": [
    "df = pd.read_csv(\"cleaned.csv\")\n",
    "df.head()\n",
    "\n",
    "corpus = list(df[\"description\"])"
   ]
  },
  {
   "cell_type": "code",
   "execution_count": 3,
   "metadata": {},
   "outputs": [
    {
     "data": {
      "text/html": [
       "<div>\n",
       "<style scoped>\n",
       "    .dataframe tbody tr th:only-of-type {\n",
       "        vertical-align: middle;\n",
       "    }\n",
       "\n",
       "    .dataframe tbody tr th {\n",
       "        vertical-align: top;\n",
       "    }\n",
       "\n",
       "    .dataframe thead th {\n",
       "        text-align: right;\n",
       "    }\n",
       "</style>\n",
       "<table border=\"1\" class=\"dataframe\">\n",
       "  <thead>\n",
       "    <tr style=\"text-align: right;\">\n",
       "      <th></th>\n",
       "      <th>annual_salary</th>\n",
       "      <th>description</th>\n",
       "    </tr>\n",
       "  </thead>\n",
       "  <tbody>\n",
       "    <tr>\n",
       "      <th>0</th>\n",
       "      <td>48880.0</td>\n",
       "      <td>[many, industries, hurt, last, years, people, ...</td>\n",
       "    </tr>\n",
       "    <tr>\n",
       "      <th>1</th>\n",
       "      <td>39500.0</td>\n",
       "      <td>[Provide, clerical, administrative, support, m...</td>\n",
       "    </tr>\n",
       "    <tr>\n",
       "      <th>2</th>\n",
       "      <td>100000.0</td>\n",
       "      <td>[United, Staffing, Solutions, partnering, one,...</td>\n",
       "    </tr>\n",
       "    <tr>\n",
       "      <th>3</th>\n",
       "      <td>38000.0</td>\n",
       "      <td>[looking, responsible, Administrative, Assista...</td>\n",
       "    </tr>\n",
       "    <tr>\n",
       "      <th>4</th>\n",
       "      <td>144000.0</td>\n",
       "      <td>[REMOTE, WORK, HOME, COMMISSION, PER, ORDER, R...</td>\n",
       "    </tr>\n",
       "  </tbody>\n",
       "</table>\n",
       "</div>"
      ],
      "text/plain": [
       "   annual_salary                                        description\n",
       "0        48880.0  [many, industries, hurt, last, years, people, ...\n",
       "1        39500.0  [Provide, clerical, administrative, support, m...\n",
       "2       100000.0  [United, Staffing, Solutions, partnering, one,...\n",
       "3        38000.0  [looking, responsible, Administrative, Assista...\n",
       "4       144000.0  [REMOTE, WORK, HOME, COMMISSION, PER, ORDER, R..."
      ]
     },
     "execution_count": 3,
     "metadata": {},
     "output_type": "execute_result"
    }
   ],
   "source": [
    "def tokenize(desc):\n",
    "    tokens = nltk.word_tokenize(desc)\n",
    "\n",
    "    # filter out all tokens of length 1?\n",
    "    return tokens\n",
    "\n",
    "df[\"description\"] = df[\"description\"].apply(tokenize)\n",
    "\n",
    "df.head()"
   ]
  },
  {
   "cell_type": "code",
   "execution_count": 4,
   "metadata": {},
   "outputs": [
    {
     "data": {
      "text/html": [
       "<div>\n",
       "<style scoped>\n",
       "    .dataframe tbody tr th:only-of-type {\n",
       "        vertical-align: middle;\n",
       "    }\n",
       "\n",
       "    .dataframe tbody tr th {\n",
       "        vertical-align: top;\n",
       "    }\n",
       "\n",
       "    .dataframe thead th {\n",
       "        text-align: right;\n",
       "    }\n",
       "</style>\n",
       "<table border=\"1\" class=\"dataframe\">\n",
       "  <thead>\n",
       "    <tr style=\"text-align: right;\">\n",
       "      <th></th>\n",
       "      <th>annual_salary</th>\n",
       "      <th>description</th>\n",
       "      <th>len</th>\n",
       "    </tr>\n",
       "  </thead>\n",
       "  <tbody>\n",
       "    <tr>\n",
       "      <th>0</th>\n",
       "      <td>48880.0</td>\n",
       "      <td>[many, industries, hurt, last, years, people, ...</td>\n",
       "      <td>170</td>\n",
       "    </tr>\n",
       "    <tr>\n",
       "      <th>1</th>\n",
       "      <td>39500.0</td>\n",
       "      <td>[Provide, clerical, administrative, support, m...</td>\n",
       "      <td>62</td>\n",
       "    </tr>\n",
       "    <tr>\n",
       "      <th>2</th>\n",
       "      <td>100000.0</td>\n",
       "      <td>[United, Staffing, Solutions, partnering, one,...</td>\n",
       "      <td>55</td>\n",
       "    </tr>\n",
       "    <tr>\n",
       "      <th>3</th>\n",
       "      <td>38000.0</td>\n",
       "      <td>[looking, responsible, Administrative, Assista...</td>\n",
       "      <td>106</td>\n",
       "    </tr>\n",
       "    <tr>\n",
       "      <th>4</th>\n",
       "      <td>144000.0</td>\n",
       "      <td>[REMOTE, WORK, HOME, COMMISSION, PER, ORDER, R...</td>\n",
       "      <td>96</td>\n",
       "    </tr>\n",
       "  </tbody>\n",
       "</table>\n",
       "</div>"
      ],
      "text/plain": [
       "   annual_salary                                        description  len\n",
       "0        48880.0  [many, industries, hurt, last, years, people, ...  170\n",
       "1        39500.0  [Provide, clerical, administrative, support, m...   62\n",
       "2       100000.0  [United, Staffing, Solutions, partnering, one,...   55\n",
       "3        38000.0  [looking, responsible, Administrative, Assista...  106\n",
       "4       144000.0  [REMOTE, WORK, HOME, COMMISSION, PER, ORDER, R...   96"
      ]
     },
     "execution_count": 4,
     "metadata": {},
     "output_type": "execute_result"
    }
   ],
   "source": [
    "# for RNN it was recommended we use lengths of 50 tokens.\n",
    "def lengths(desc):\n",
    "    return len(desc)\n",
    "\n",
    "df[\"len\"] = df[\"description\"].apply(lengths)\n",
    "\n",
    "df.head()"
   ]
  },
  {
   "cell_type": "code",
   "execution_count": 5,
   "metadata": {},
   "outputs": [
    {
     "data": {
      "text/plain": [
       "<Axes: ylabel='Frequency'>"
      ]
     },
     "execution_count": 5,
     "metadata": {},
     "output_type": "execute_result"
    },
    {
     "data": {
      "image/png": "[encoded data removed]",
      "text/plain": [
       "<Figure size 640x480 with 1 Axes>"
      ]
     },
     "metadata": {},
     "output_type": "display_data"
    }
   ],
   "source": [
    "from collections import Counter\n",
    "\n",
    "# print(Counter(df[\"len\"]).keys())\n",
    "# print(df.shape)\n",
    "\n",
    "df[\"len\"].plot.hist()\n"
   ]
  },
  {
   "cell_type": "code",
   "execution_count": 6,
   "metadata": {},
   "outputs": [
    {
     "name": "stdout",
     "output_type": "stream",
     "text": [
      "(4240, 56824)\n",
      "(1414, 56824)\n",
      "4240\n",
      "1414\n"
     ]
    },
    {
     "data": {
      "text/plain": [
       "array([    0.        , 11426.67819991, -3892.43236893, ...,\n",
       "        4991.7777689 , -6036.60304855,  4991.7777689 ])"
      ]
     },
     "execution_count": 6,
     "metadata": {},
     "output_type": "execute_result"
    }
   ],
   "source": [
    "from sklearn.feature_extraction.text import TfidfVectorizer \n",
    "\n",
    "tfidf_vectorizer = TfidfVectorizer() \n",
    "tfidf_matrix = tfidf_vectorizer.fit_transform(corpus) \n",
    "# print(tfidf_matrix.toarray())\n",
    "# print(Counter(tfidf_matrix.toarray()[3]))\n",
    "\n",
    "X_train, X_test, y_train, y_test = train_test_split(tfidf_matrix, list(df[\"annual_salary\"]))\n",
    "\n",
    "print(X_train.shape)\n",
    "print(X_test.shape)\n",
    "print(len(y_train))\n",
    "print(len(y_test))\n",
    "\n",
    "\n",
    "model = LinearRegression()\n",
    "model.fit(X_train, y_train)\n",
    "\n",
    "model.coef_\n",
    "\n",
    "# index = 9\n",
    "# pred = model.predict([X_test[index]])\n",
    "\n",
    "# print(y_test[index], pred[0])\n"
   ]
  },
  {
   "cell_type": "code",
   "execution_count": 7,
   "metadata": {},
   "outputs": [
    {
     "name": "stdout",
     "output_type": "stream",
     "text": [
      "122500.0 132499.82364409644\n"
     ]
    }
   ],
   "source": [
    "index = 1\n",
    "pred = model.predict(X_test[index])\n",
    "\n",
    "print(y_test[index], pred[0])"
   ]
  },
  {
   "cell_type": "code",
   "execution_count": 8,
   "metadata": {},
   "outputs": [
    {
     "data": {
      "image/png": "[encoded data removed]",
      "text/plain": [
       "<Figure size 640x480 with 1 Axes>"
      ]
     },
     "metadata": {},
     "output_type": "display_data"
    }
   ],
   "source": [
    "preds = model.predict(X_test)\n",
    "\n",
    "#from sklearn.metrics import mean_squared_error \n",
    "#mean_squared_error(y_test, preds)\n",
    "import matplotlib.pyplot as plt\n",
    "\n",
    "# Sample data\n",
    "\n",
    "# Create a scatter plot\n",
    "plt.scatter(preds, y_test)\n",
    "\n",
    "x = range(0, 1000000)\n",
    "plt.plot(x, x, c=\"b\")\n",
    "# Add labels and title\n",
    "plt.xlabel('predictions')\n",
    "plt.ylabel('actual')\n",
    "\n",
    "# Show the plot\n",
    "plt.show()\n",
    "\n",
    "\n",
    "# compare the actual and predicton in some way (ratio or subtraction)\n",
    "# investigate the confusion matrix\n",
    "# investigate the most \"confused\" items\n",
    "# use coefficients from LR to reduce features for future models, and iterate \n",
    "# use tables to track parameters to the results from the models\n",
    "# https://jalammar.github.io/explaining-transformers/"
   ]
  },
  {
   "cell_type": "code",
   "execution_count": 9,
   "metadata": {},
   "outputs": [
    {
     "name": "stdout",
     "output_type": "stream",
     "text": [
      "200\n"
     ]
    }
   ],
   "source": [
    "#bag of words\n",
    "def featurize(vocab, tokenized_data):\n",
    "\n",
    "    # use min_df or max_features?\n",
    "    vectorizer = CountVectorizer(vocabulary=vocab, binary=False,max_features=200)\n",
    "\n",
    "    data = []\n",
    "    \n",
    "    for text in tokenized_data:\n",
    "        data.append(\" \".join(text))\n",
    "\n",
    "    X = vectorizer.fit_transform(data)\n",
    "\n",
    "    return X.toarray(), vectorizer.get_feature_names_out()\n",
    "\n",
    "featurized_data, count_vectorizer_vocab = featurize(None, list(df[\"description\"]))\n",
    "\n",
    "\n",
    "print(len(count_vectorizer_vocab))"
   ]
  },
  {
   "cell_type": "code",
   "execution_count": 10,
   "metadata": {},
   "outputs": [
    {
     "name": "stdout",
     "output_type": "stream",
     "text": [
      "4240\n",
      "1414\n",
      "4240\n",
      "1414\n"
     ]
    }
   ],
   "source": [
    "X_train, X_test, y_train, y_test = train_test_split(featurized_data, list(df[\"annual_salary\"]))\n",
    "\n",
    "print(len(X_train))\n",
    "print(len(X_test))\n",
    "print(len(y_train))\n",
    "print(len(y_test))"
   ]
  },
  {
   "cell_type": "code",
   "execution_count": 11,
   "metadata": {},
   "outputs": [
    {
     "data": {
      "text/html": [
       "<style>#sk-container-id-1 {color: black;}#sk-container-id-1 pre{padding: 0;}#sk-container-id-1 div.sk-toggleable {background-color: white;}#sk-container-id-1 label.sk-toggleable__label {cursor: pointer;display: block;width: 100%;margin-bottom: 0;padding: 0.3em;box-sizing: border-box;text-align: center;}#sk-container-id-1 label.sk-toggleable__label-arrow:before {content: \"▸\";float: left;margin-right: 0.25em;color: #696969;}#sk-container-id-1 label.sk-toggleable__label-arrow:hover:before {color: black;}#sk-container-id-1 div.sk-estimator:hover label.sk-toggleable__label-arrow:before {color: black;}#sk-container-id-1 div.sk-toggleable__content {max-height: 0;max-width: 0;overflow: hidden;text-align: left;background-color: #f0f8ff;}#sk-container-id-1 div.sk-toggleable__content pre {margin: 0.2em;color: black;border-radius: 0.25em;background-color: #f0f8ff;}#sk-container-id-1 input.sk-toggleable__control:checked~div.sk-toggleable__content {max-height: 200px;max-width: 100%;overflow: auto;}#sk-container-id-1 input.sk-toggleable__control:checked~label.sk-toggleable__label-arrow:before {content: \"▾\";}#sk-container-id-1 div.sk-estimator input.sk-toggleable__control:checked~label.sk-toggleable__label {background-color: #d4ebff;}#sk-container-id-1 div.sk-label input.sk-toggleable__control:checked~label.sk-toggleable__label {background-color: #d4ebff;}#sk-container-id-1 input.sk-hidden--visually {border: 0;clip: rect(1px 1px 1px 1px);clip: rect(1px, 1px, 1px, 1px);height: 1px;margin: -1px;overflow: hidden;padding: 0;position: absolute;width: 1px;}#sk-container-id-1 div.sk-estimator {font-family: monospace;background-color: #f0f8ff;border: 1px dotted black;border-radius: 0.25em;box-sizing: border-box;margin-bottom: 0.5em;}#sk-container-id-1 div.sk-estimator:hover {background-color: #d4ebff;}#sk-container-id-1 div.sk-parallel-item::after {content: \"\";width: 100%;border-bottom: 1px solid gray;flex-grow: 1;}#sk-container-id-1 div.sk-label:hover label.sk-toggleable__label {background-color: #d4ebff;}#sk-container-id-1 div.sk-serial::before {content: \"\";position: absolute;border-left: 1px solid gray;box-sizing: border-box;top: 0;bottom: 0;left: 50%;z-index: 0;}#sk-container-id-1 div.sk-serial {display: flex;flex-direction: column;align-items: center;background-color: white;padding-right: 0.2em;padding-left: 0.2em;position: relative;}#sk-container-id-1 div.sk-item {position: relative;z-index: 1;}#sk-container-id-1 div.sk-parallel {display: flex;align-items: stretch;justify-content: center;background-color: white;position: relative;}#sk-container-id-1 div.sk-item::before, #sk-container-id-1 div.sk-parallel-item::before {content: \"\";position: absolute;border-left: 1px solid gray;box-sizing: border-box;top: 0;bottom: 0;left: 50%;z-index: -1;}#sk-container-id-1 div.sk-parallel-item {display: flex;flex-direction: column;z-index: 1;position: relative;background-color: white;}#sk-container-id-1 div.sk-parallel-item:first-child::after {align-self: flex-end;width: 50%;}#sk-container-id-1 div.sk-parallel-item:last-child::after {align-self: flex-start;width: 50%;}#sk-container-id-1 div.sk-parallel-item:only-child::after {width: 0;}#sk-container-id-1 div.sk-dashed-wrapped {border: 1px dashed gray;margin: 0 0.4em 0.5em 0.4em;box-sizing: border-box;padding-bottom: 0.4em;background-color: white;}#sk-container-id-1 div.sk-label label {font-family: monospace;font-weight: bold;display: inline-block;line-height: 1.2em;}#sk-container-id-1 div.sk-label-container {text-align: center;}#sk-container-id-1 div.sk-container {/* jupyter's `normalize.less` sets `[hidden] { display: none; }` but bootstrap.min.css set `[hidden] { display: none !important; }` so we also need the `!important` here to be able to override the default hidden behavior on the sphinx rendered scikit-learn.org. See: https://github.com/scikit-learn/scikit-learn/issues/21755 */display: inline-block !important;position: relative;}#sk-container-id-1 div.sk-text-repr-fallback {display: none;}</style><div id=\"sk-container-id-1\" class=\"sk-top-container\"><div class=\"sk-text-repr-fallback\"><pre>LinearRegression()</pre><b>In a Jupyter environment, please rerun this cell to show the HTML representation or trust the notebook. <br />On GitHub, the HTML representation is unable to render, please try loading this page with nbviewer.org.</b></div><div class=\"sk-container\" hidden><div class=\"sk-item\"><div class=\"sk-estimator sk-toggleable\"><input class=\"sk-toggleable__control sk-hidden--visually\" id=\"sk-estimator-id-1\" type=\"checkbox\" checked><label for=\"sk-estimator-id-1\" class=\"sk-toggleable__label sk-toggleable__label-arrow\">LinearRegression</label><div class=\"sk-toggleable__content\"><pre>LinearRegression()</pre></div></div></div></div></div>"
      ],
      "text/plain": [
       "LinearRegression()"
      ]
     },
     "execution_count": 11,
     "metadata": {},
     "output_type": "execute_result"
    }
   ],
   "source": [
    "model = LinearRegression()\n",
    "model.fit(X_train, y_train)"
   ]
  },
  {
   "cell_type": "code",
   "execution_count": 12,
   "metadata": {},
   "outputs": [
    {
     "name": "stdout",
     "output_type": "stream",
     "text": [
      "100000.0 66793.6904728369\n"
     ]
    }
   ],
   "source": [
    "index = 9\n",
    "pred = model.predict([X_test[index]])\n",
    "\n",
    "print(y_test[index], pred[0])"
   ]
  },
  {
   "cell_type": "code",
   "execution_count": 13,
   "metadata": {},
   "outputs": [
    {
     "data": {
      "image/png": "[encoded data removed]",
      "text/plain": [
       "<Figure size 640x480 with 1 Axes>"
      ]
     },
     "metadata": {},
     "output_type": "display_data"
    }
   ],
   "source": [
    "preds = model.predict(X_test)\n",
    "\n",
    "#from sklearn.metrics import mean_squared_error \n",
    "#mean_squared_error(y_test, preds)\n",
    "import matplotlib.pyplot as plt\n",
    "\n",
    "# Sample data\n",
    "\n",
    "# Create a scatter plot\n",
    "plt.scatter(preds, y_test)\n",
    "\n",
    "# Add labels and title\n",
    "plt.xlabel('predictions')\n",
    "plt.ylabel('actual')\n",
    "\n",
    "# Show the plot\n",
    "plt.show()"
   ]
  },
  {
   "cell_type": "code",
   "execution_count": 14,
   "metadata": {},
   "outputs": [
    {
     "data": {
      "text/plain": [
       "1414"
      ]
     },
     "execution_count": 14,
     "metadata": {},
     "output_type": "execute_result"
    }
   ],
   "source": [
    "len(preds)"
   ]
  },
  {
   "cell_type": "code",
   "execution_count": 45,
   "metadata": {},
   "outputs": [],
   "source": [
    "from sklearn.feature_extraction.text import TfidfVectorizer\n",
    "\n",
    "# Join the tokenized words in the 'description' column\n",
    "df['description_joined'] = df['description'].apply(' '.join)\n",
    "\n",
    "# TF-IDF Vectorization\n",
    "tfidf = TfidfVectorizer(max_features=20000)  # Adjust max_features based on your dataset\n",
    "X = tfidf.fit_transform(df['description_joined']).toarray()\n",
    "y = df['annual_salary'].values\n",
    "\n",
    "# Split the data\n",
    "X_train, X_test, y_train, y_test = train_test_split(X, y, test_size=0.2, random_state=42)\n"
   ]
  },
  {
   "cell_type": "code",
   "execution_count": 46,
   "metadata": {},
   "outputs": [],
   "source": [
    "from keras.models import Sequential\n",
    "from keras.layers import Dense, Dropout\n",
    "\n",
    "# Neural network architecture\n",
    "model = Sequential()\n",
    "model.add(Dense(128, activation='relu', input_dim=X_train.shape[1]))\n",
    "model.add(Dropout(0.5))\n",
    "model.add(Dense(1))  # Single neuron for regression output"
   ]
  },
  {
   "cell_type": "markdown",
   "metadata": {},
   "source": []
  },
  {
   "cell_type": "code",
   "execution_count": 47,
   "metadata": {},
   "outputs": [
    {
     "name": "stdout",
     "output_type": "stream",
     "text": [
      "Epoch 1/10\n",
      "114/114 [==============================] - 4s 26ms/step - loss: 12619160576.0000 - mean_absolute_error: 93092.2422 - val_loss: 13546664960.0000 - val_mean_absolute_error: 94437.7578\n",
      "Epoch 2/10\n",
      "114/114 [==============================] - 3s 24ms/step - loss: 12612903936.0000 - mean_absolute_error: 93058.8672 - val_loss: 13537193984.0000 - val_mean_absolute_error: 94388.2188\n",
      "Epoch 3/10\n",
      "114/114 [==============================] - 3s 24ms/step - loss: 12600577024.0000 - mean_absolute_error: 92992.4688 - val_loss: 13521395712.0000 - val_mean_absolute_error: 94306.0859\n",
      "Epoch 4/10\n",
      "114/114 [==============================] - 3s 24ms/step - loss: 12581923840.0000 - mean_absolute_error: 92894.3047 - val_loss: 13499444224.0000 - val_mean_absolute_error: 94192.1172\n",
      "Epoch 5/10\n",
      "114/114 [==============================] - 3s 24ms/step - loss: 12557208576.0000 - mean_absolute_error: 92762.6953 - val_loss: 13471464448.0000 - val_mean_absolute_error: 94046.7734\n",
      "Epoch 6/10\n",
      "114/114 [==============================] - 3s 25ms/step - loss: 12526555136.0000 - mean_absolute_error: 92598.7891 - val_loss: 13437685760.0000 - val_mean_absolute_error: 93870.9531\n",
      "Epoch 7/10\n",
      "114/114 [==============================] - 3s 25ms/step - loss: 12490735616.0000 - mean_absolute_error: 92408.8359 - val_loss: 13398605824.0000 - val_mean_absolute_error: 93667.1094\n",
      "Epoch 8/10\n",
      "114/114 [==============================] - 3s 24ms/step - loss: 12449875968.0000 - mean_absolute_error: 92188.9453 - val_loss: 13354468352.0000 - val_mean_absolute_error: 93436.2812\n",
      "Epoch 9/10\n",
      "114/114 [==============================] - 3s 24ms/step - loss: 12403580928.0000 - mean_absolute_error: 91941.8125 - val_loss: 13305538560.0000 - val_mean_absolute_error: 93179.6953\n",
      "Epoch 10/10\n",
      "114/114 [==============================] - 3s 24ms/step - loss: 12352684032.0000 - mean_absolute_error: 91668.3047 - val_loss: 13251329024.0000 - val_mean_absolute_error: 92894.7266\n"
     ]
    }
   ],
   "source": [
    "# Compile the model\n",
    "model.compile(optimizer='adam', loss='mean_squared_error', metrics=['mean_absolute_error'])\n",
    "\n",
    "# Train the model\n",
    "history = model.fit(X_train, y_train, epochs=10, batch_size=32, validation_split=0.2)\n"
   ]
  },
  {
   "cell_type": "code",
   "execution_count": 48,
   "metadata": {},
   "outputs": [
    {
     "name": "stdout",
     "output_type": "stream",
     "text": [
      "36/36 [==============================] - 0s 3ms/step\n",
      "Test MAE: 89807.07473012639\n"
     ]
    }
   ],
   "source": [
    "from sklearn.metrics import mean_absolute_error\n",
    "\n",
    "# Predict on test data\n",
    "y_pred = model.predict(X_test)\n",
    "\n",
    "# Calculate Mean Absolute Error\n",
    "test_mae = mean_absolute_error(y_test, y_pred)\n",
    "print(\"Test MAE:\", test_mae)\n"
   ]
  },
  {
   "cell_type": "code",
   "execution_count": null,
   "metadata": {},
   "outputs": [],
   "source": []
  }
 ],
 "metadata": {
  "kernelspec": {
   "display_name": "Python 3 (ipykernel)",
   "language": "python",
   "name": "python3"
  },
  "language_info": {
   "codemirror_mode": {
    "name": "ipython",
    "version": 3
   },
   "file_extension": ".py",
   "mimetype": "text/x-python",
   "name": "python",
   "nbconvert_exporter": "python",
   "pygments_lexer": "ipython3",
   "version": "3.11.5"
  }
 },
 "nbformat": 4,
 "nbformat_minor": 2
}
