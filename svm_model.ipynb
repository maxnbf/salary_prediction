{
 "cells": [
  {
   "cell_type": "code",
   "execution_count": 1,
   "metadata": {},
   "outputs": [
    {
     "name": "stderr",
     "output_type": "stream",
     "text": [
      "[nltk_data] Downloading package stopwords to /Users/ryan/nltk_data...\n",
      "[nltk_data]   Package stopwords is already up-to-date!\n"
     ]
    }
   ],
   "source": [
    "# imports\n",
    "import numpy as np\n",
    "import pandas as pd\n",
    "\n",
    "from sklearn.model_selection import train_test_split\n",
    "from sklearn.pipeline import make_pipeline\n",
    "from sklearn.preprocessing import StandardScaler\n",
    "from sklearn.svm import SVR\n",
    "\n",
    "import utilities.text_utilities as util\n",
    "import utilities.ML_utilities as ml"
   ]
  },
  {
   "cell_type": "code",
   "execution_count": 2,
   "metadata": {},
   "outputs": [],
   "source": [
    "# importing data for SVR\n",
    "df = pd.read_csv('data/cleaned.csv')\n",
    "X_col = df['description'].tolist()\n",
    "y_col = df['annual_salary'].tolist()"
   ]
  },
  {
   "cell_type": "code",
   "execution_count": 9,
   "metadata": {},
   "outputs": [],
   "source": [
    "# Applying some text pre-processing\n",
    "X_processed = util.pre_process_descriptions(X_col)\n",
    "X_featurized = ml.featurize_bow(X_processed).toarray()[0:2000]\n",
    "y_featurized = y_col[0:2000]"
   ]
  },
  {
   "cell_type": "code",
   "execution_count": 10,
   "metadata": {},
   "outputs": [],
   "source": [
    "# splitting the data for input into our model\n",
    "TEST_SIZE = .2\n",
    "X_train, X_test, y_train, y_test = train_test_split(X_featurized, y_featurized, test_size=TEST_SIZE, random_state=42)"
   ]
  },
  {
   "cell_type": "code",
   "execution_count": 13,
   "metadata": {},
   "outputs": [],
   "source": [
    "#play around with C and Epsilon here\n",
    "linear_model = SVR(kernel='linear', C=1000, epsilon=5000)"
   ]
  },
  {
   "cell_type": "code",
   "execution_count": 14,
   "metadata": {},
   "outputs": [
    {
     "name": "stdout",
     "output_type": "stream",
     "text": [
      "Mean Squared Error (MSE): 1457542761.5731614\n",
      "Mean Absolute Error: 27844.942088351614\n",
      "Percent of postings predicted within $5,000:  14.75\n",
      "Percent of postings predicted within $10,000:  29.00\n"
     ]
    }
   ],
   "source": [
    "linear_model.fit(X_train, y_train)\n",
    "preds = util.predict_and_analyze(linear_model, X_test, y_test)"
   ]
  },
  {
   "cell_type": "code",
   "execution_count": null,
   "metadata": {},
   "outputs": [],
   "source": [
    "poly_model = SVR(kernel='poly')\n",
    "poly_model.fit(X_train, y_train)\n",
    "preds = util.predict_and_analyze(poly_model, X_test, y_test)"
   ]
  },
  {
   "cell_type": "code",
   "execution_count": null,
   "metadata": {},
   "outputs": [],
   "source": [
    "rbf_model = SVR(kernel='rbf', C=1.0, epsilon=.2)\n",
    "rbf_model.fit(X_train, y_train)\n",
    "preds = util.predict_and_analyze(rbf_model, X_test, y_test)"
   ]
  },
  {
   "cell_type": "code",
   "execution_count": null,
   "metadata": {},
   "outputs": [],
   "source": [
    "sigmoid_model = SVR(kernel='sigmoid', C=1.0, epsilon=.2)\n",
    "sigmoid_model.fit(X_train, y_train)\n",
    "preds = util.predict_and_analyze(sigmoid_model, X_test, y_test)"
   ]
  }
 ],
 "metadata": {
  "kernelspec": {
   "display_name": "Python 3",
   "language": "python",
   "name": "python3"
  },
  "language_info": {
   "codemirror_mode": {
    "name": "ipython",
    "version": 3
   },
   "file_extension": ".py",
   "mimetype": "text/x-python",
   "name": "python",
   "nbconvert_exporter": "python",
   "pygments_lexer": "ipython3",
   "version": "3.12.0"
  }
 },
 "nbformat": 4,
 "nbformat_minor": 2
}
