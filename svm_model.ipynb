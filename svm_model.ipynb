{
 "cells": [
  {
   "cell_type": "code",
   "execution_count": null,
   "metadata": {},
   "outputs": [],
   "source": [
    "# imports\n",
    "import numpy as np\n",
    "import pandas as pd\n",
    "\n",
    "from sklearn.model_selection import train_test_split\n",
    "from sklearn.pipeline import make_pipeline\n",
    "from sklearn.preprocessing import StandardScaler\n",
    "from sklearn.svm import SVR\n",
    "import sklearn.metrics as smetrics\n",
    "\n",
    "import matplotlib.pyplot as plt\n",
    "\n",
    "import utilities.data_utils as util\n",
    "import utilities.ML_utilils as ml\n",
    "import utilities.ryan_utils as rutils"
   ]
  },
  {
   "cell_type": "code",
   "execution_count": null,
   "metadata": {},
   "outputs": [],
   "source": [
    "# importing data for SVR\n",
    "df = pd.read_csv('data/downsampled_df.csv')\n",
    "X_col = df['description'].tolist()\n",
    "y_col = df['annual_salary'].tolist()"
   ]
  },
  {
   "cell_type": "markdown",
   "metadata": {},
   "source": []
  },
  {
   "cell_type": "code",
   "execution_count": null,
   "metadata": {},
   "outputs": [],
   "source": [
    "# reduce sample size due to quickly increasing training times (2 min for 1000 samples, 12 min for 2000 samples)\n",
    "SAMPLES = 2000 \n",
    "# Applying some text pre-processing\n",
    "X_processed = util.pre_process_descriptions(X_col)\n",
    "X_bow_featurized = ml.featurize_bow(X_processed[0:SAMPLES]).toarray()\n",
    "X_tfidf_featurized = ml.featurize_tfIDF(X_processed[0:SAMPLES], .25, 1).toarray()\n",
    "\n",
    "y_featurized = y_col[0:SAMPLES]"
   ]
  },
  {
   "cell_type": "code",
   "execution_count": null,
   "metadata": {},
   "outputs": [],
   "source": [
    "# splitting the data for input into our model\n",
    "TEST_SIZE = .2\n",
    "X_BOW_train, X_BOW_test, y_train, y_test = train_test_split(X_bow_featurized, y_featurized, test_size=TEST_SIZE, random_state=42)\n",
    "X_TFIDF_train, X_TFIDF_test, y_train, y_test = train_test_split(X_tfidf_featurized, y_featurized, test_size=TEST_SIZE, random_state=42)"
   ]
  },
  {
   "cell_type": "code",
   "execution_count": null,
   "metadata": {},
   "outputs": [],
   "source": [
    "#play around with C and Epsilon here - these are the hyperparameters to our model\n",
    "C_VALUES = [1, 10, 100, 250, 500, 750, 1000, 2000, 3000, 4000, 5000]\n",
    "EPSILON_CONSTANT = 1000"
   ]
  },
  {
   "cell_type": "code",
   "execution_count": null,
   "metadata": {},
   "outputs": [],
   "source": [
    "linear_BOW_preds = rutils.train_and_predict_SVR('linear', X_BOW_train, y_train, X_BOW_test, y_test)\n",
    "poly_BOW_preds = rutils.train_and_predict_SVR('poly', X_BOW_train, y_train, X_BOW_test, y_test)\n",
    "linear_TFIDF_preds = rutils.train_and_predict_SVR('linear', X_TFIDF_train, y_train, X_TFIDF_test, y_test)\n",
    "poly_TFIDF_preds = rutils.train_and_predict_SVR('poly', X_TFIDF_train, y_train, X_TFIDF_test, y_test)"
   ]
  },
  {
   "cell_type": "code",
   "execution_count": null,
   "metadata": {},
   "outputs": [],
   "source": [
    "TITLE_PREFIX = 'Performance of '\n",
    "model_name = 'Linear BOW SVR model'\n",
    "rutils.graph_SVR_performance_by_C(TITLE_PREFIX+model_name, linear_BOW_preds, y_test, C_VALUES)\n"
   ]
  },
  {
   "cell_type": "code",
   "execution_count": null,
   "metadata": {},
   "outputs": [],
   "source": [
    "model_name = 'Poly BOW SVR model'\n",
    "rutils.graph_SVR_performance_by_C(TITLE_PREFIX+model_name, poly_BOW_preds, y_test, C_VALUES)"
   ]
  },
  {
   "cell_type": "code",
   "execution_count": null,
   "metadata": {},
   "outputs": [],
   "source": [
    "model_name = 'Linear TF-IDF SVR model'\n",
    "rutils.graph_SVR_performance_by_C(TITLE_PREFIX+model_name, linear_TFIDF_preds, y_test, C_VALUES)"
   ]
  },
  {
   "cell_type": "code",
   "execution_count": null,
   "metadata": {},
   "outputs": [],
   "source": [
    "model_name = 'Poly TF-IDF SVR model'\n",
    "rutils.graph_SVR_performance_by_C(TITLE_PREFIX+model_name, poly_TFIDF_preds, y_test, C_VALUES)"
   ]
  },
  {
   "cell_type": "code",
   "execution_count": null,
   "metadata": {},
   "outputs": [],
   "source": [
    "# todo - plot optimal model here\n",
    "util.plot_accuracy_in_buckets(y_test, )"
   ]
  }
 ],
 "metadata": {
  "kernelspec": {
   "display_name": "Python 3",
   "language": "python",
   "name": "python3"
  },
  "language_info": {
   "codemirror_mode": {
    "name": "ipython",
    "version": 3
   },
   "file_extension": ".py",
   "mimetype": "text/x-python",
   "name": "python",
   "nbconvert_exporter": "python",
   "pygments_lexer": "ipython3",
   "version": "3.12.0"
  }
 },
 "nbformat": 4,
 "nbformat_minor": 2
}
