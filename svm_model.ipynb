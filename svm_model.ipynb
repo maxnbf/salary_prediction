{
 "cells": [
  {
   "cell_type": "code",
   "execution_count": 1,
   "metadata": {},
   "outputs": [
    {
     "name": "stderr",
     "output_type": "stream",
     "text": [
      "[nltk_data] Downloading package stopwords to /Users/ryan/nltk_data...\n",
      "[nltk_data]   Package stopwords is already up-to-date!\n"
     ]
    }
   ],
   "source": [
    "# imports\n",
    "import numpy as np\n",
    "import pandas as pd\n",
    "\n",
    "from sklearn.model_selection import train_test_split\n",
    "from sklearn.pipeline import make_pipeline\n",
    "from sklearn.preprocessing import StandardScaler\n",
    "from sklearn.svm import SVR\n",
    "import sklearn.metrics as smetrics\n",
    "\n",
    "import matplotlib.pyplot as plt\n",
    "\n",
    "import utilities.data_utils as util\n",
    "import utilities.ML_utilils as ml\n",
    "import utilities.ryan_utils as rutils"
   ]
  },
  {
   "cell_type": "code",
   "execution_count": 2,
   "metadata": {},
   "outputs": [],
   "source": [
    "# importing data for SVR\n",
    "df = pd.read_csv('data/downsampled_df.csv')\n",
    "X_col = df['description'].tolist()\n",
    "y_col = df['annual_salary'].tolist()"
   ]
  },
  {
   "cell_type": "markdown",
   "metadata": {},
   "source": []
  },
  {
   "cell_type": "code",
   "execution_count": 3,
   "metadata": {},
   "outputs": [],
   "source": [
    "# reduce sample size due to quickly increasing training times (2 min for 1000 samples, 12 min for 2000 samples)\n",
    "SAMPLES = 100 \n",
    "# Applying some text pre-processing\n",
    "X_processed = util.pre_process_descriptions(X_col)\n",
    "X_bow_featurized = ml.featurize_bow(X_processed[0:SAMPLES]).toarray()\n",
    "X_tfidf_featurized = ml.featurize_tfIDF(X_processed[0:SAMPLES], .25, 1).toarray()\n",
    "\n",
    "y_featurized = y_col[0:SAMPLES]"
   ]
  },
  {
   "cell_type": "code",
   "execution_count": 4,
   "metadata": {},
   "outputs": [],
   "source": [
    "# splitting the data for input into our model\n",
    "TEST_SIZE = .2\n",
    "X_BOW_train, X_BOW_test, y_train, y_test = train_test_split(X_bow_featurized, y_featurized, test_size=TEST_SIZE, random_state=42)\n",
    "X_TFIDF_train, X_TFIDF_test, y_train, y_test = train_test_split(X_tfidf_featurized, y_featurized, test_size=TEST_SIZE, random_state=42)"
   ]
  },
  {
   "cell_type": "code",
   "execution_count": 5,
   "metadata": {},
   "outputs": [],
   "source": [
    "#play around with C and Epsilon here - these are the hyperparameters to our model\n",
    "C_VALUES = [1, 10, 100, 250, 500, 750, 1000, 2000, 3000, 4000, 5000]\n",
    "EPSILON_CONSTANT = 1000"
   ]
  },
  {
   "cell_type": "code",
   "execution_count": 6,
   "metadata": {},
   "outputs": [
    {
     "name": "stdout",
     "output_type": "stream",
     "text": [
      "Mean Squared Error (MSE): 30771315.67635895\n",
      "Mean Absolute Error: 4588.994831431277\n",
      "Percent of postings predicted within $5,000:  45.00\n",
      "Percent of postings predicted within $10,000:  100.00\n",
      "Mean Squared Error (MSE): 29867772.502074845\n",
      "Mean Absolute Error: 4449.680646613194\n",
      "Percent of postings predicted within $5,000:  50.00\n",
      "Percent of postings predicted within $10,000:  95.00\n",
      "Mean Squared Error (MSE): 31179886.768082898\n",
      "Mean Absolute Error: 4508.266091714013\n",
      "Percent of postings predicted within $5,000:  65.00\n",
      "Percent of postings predicted within $10,000:  90.00\n",
      "Mean Squared Error (MSE): 31328616.78582149\n",
      "Mean Absolute Error: 4526.478056417187\n",
      "Percent of postings predicted within $5,000:  65.00\n",
      "Percent of postings predicted within $10,000:  90.00\n",
      "Mean Squared Error (MSE): 31328616.78582149\n",
      "Mean Absolute Error: 4526.478056417187\n",
      "Percent of postings predicted within $5,000:  65.00\n",
      "Percent of postings predicted within $10,000:  90.00\n",
      "Mean Squared Error (MSE): 31328616.78582149\n",
      "Mean Absolute Error: 4526.478056417187\n",
      "Percent of postings predicted within $5,000:  65.00\n",
      "Percent of postings predicted within $10,000:  90.00\n",
      "Mean Squared Error (MSE): 31328616.78582149\n",
      "Mean Absolute Error: 4526.478056417187\n",
      "Percent of postings predicted within $5,000:  65.00\n",
      "Percent of postings predicted within $10,000:  90.00\n",
      "Mean Squared Error (MSE): 31328616.78582149\n",
      "Mean Absolute Error: 4526.478056417187\n",
      "Percent of postings predicted within $5,000:  65.00\n",
      "Percent of postings predicted within $10,000:  90.00\n",
      "Mean Squared Error (MSE): 31328616.78582149\n",
      "Mean Absolute Error: 4526.478056417187\n",
      "Percent of postings predicted within $5,000:  65.00\n",
      "Percent of postings predicted within $10,000:  90.00\n",
      "Mean Squared Error (MSE): 31328616.78582149\n",
      "Mean Absolute Error: 4526.478056417187\n",
      "Percent of postings predicted within $5,000:  65.00\n",
      "Percent of postings predicted within $10,000:  90.00\n",
      "Mean Squared Error (MSE): 31328616.78582149\n",
      "Mean Absolute Error: 4526.478056417187\n",
      "Percent of postings predicted within $5,000:  65.00\n",
      "Percent of postings predicted within $10,000:  90.00\n",
      "Mean Squared Error (MSE): 30965979.870842952\n",
      "Mean Absolute Error: 4600.361067248467\n",
      "Percent of postings predicted within $5,000:  45.00\n",
      "Percent of postings predicted within $10,000:  100.00\n",
      "Mean Squared Error (MSE): 30944885.379603427\n",
      "Mean Absolute Error: 4599.192016496737\n",
      "Percent of postings predicted within $5,000:  45.00\n",
      "Percent of postings predicted within $10,000:  100.00\n",
      "Mean Squared Error (MSE): 30762920.605610646\n",
      "Mean Absolute Error: 4589.522354902043\n",
      "Percent of postings predicted within $5,000:  45.00\n",
      "Percent of postings predicted within $10,000:  100.00\n",
      "Mean Squared Error (MSE): 30489988.10657104\n",
      "Mean Absolute Error: 4574.84631230118\n",
      "Percent of postings predicted within $5,000:  45.00\n",
      "Percent of postings predicted within $10,000:  100.00\n",
      "Mean Squared Error (MSE): 29995304.0570576\n",
      "Mean Absolute Error: 4545.01135656829\n",
      "Percent of postings predicted within $5,000:  45.00\n",
      "Percent of postings predicted within $10,000:  100.00\n",
      "Mean Squared Error (MSE): 29550620.836799394\n",
      "Mean Absolute Error: 4515.798189477861\n",
      "Percent of postings predicted within $5,000:  45.00\n",
      "Percent of postings predicted within $10,000:  100.00\n",
      "Mean Squared Error (MSE): 29228957.357151173\n",
      "Mean Absolute Error: 4491.6953358672345\n",
      "Percent of postings predicted within $5,000:  45.00\n",
      "Percent of postings predicted within $10,000:  100.00\n",
      "Mean Squared Error (MSE): 27941424.783774007\n",
      "Mean Absolute Error: 4371.71106532136\n",
      "Percent of postings predicted within $5,000:  50.00\n",
      "Percent of postings predicted within $10,000:  100.00\n",
      "Mean Squared Error (MSE): 27154619.035790972\n",
      "Mean Absolute Error: 4248.479781788349\n",
      "Percent of postings predicted within $5,000:  50.00\n",
      "Percent of postings predicted within $10,000:  100.00\n",
      "Mean Squared Error (MSE): 26697651.618900005\n",
      "Mean Absolute Error: 4176.777617856553\n",
      "Percent of postings predicted within $5,000:  55.00\n",
      "Percent of postings predicted within $10,000:  100.00\n",
      "Mean Squared Error (MSE): 26141522.175517153\n",
      "Mean Absolute Error: 4142.918343945368\n",
      "Percent of postings predicted within $5,000:  55.00\n",
      "Percent of postings predicted within $10,000:  100.00\n",
      "Mean Squared Error (MSE): 30968246.27122096\n",
      "Mean Absolute Error: 4600.544864336045\n",
      "Percent of postings predicted within $5,000:  45.00\n",
      "Percent of postings predicted within $10,000:  100.00\n",
      "Mean Squared Error (MSE): 30966504.412122816\n",
      "Mean Absolute Error: 4600.948660610785\n",
      "Percent of postings predicted within $5,000:  45.00\n",
      "Percent of postings predicted within $10,000:  100.00\n",
      "Mean Squared Error (MSE): 30984849.144955166\n",
      "Mean Absolute Error: 4607.293657541535\n",
      "Percent of postings predicted within $5,000:  45.00\n",
      "Percent of postings predicted within $10,000:  100.00\n",
      "Mean Squared Error (MSE): 31061037.388535578\n",
      "Mean Absolute Error: 4619.321825916022\n",
      "Percent of postings predicted within $5,000:  45.00\n",
      "Percent of postings predicted within $10,000:  100.00\n",
      "Mean Squared Error (MSE): 31185008.230263136\n",
      "Mean Absolute Error: 4634.436990743193\n",
      "Percent of postings predicted within $5,000:  45.00\n",
      "Percent of postings predicted within $10,000:  100.00\n",
      "Mean Squared Error (MSE): 31093222.820303667\n",
      "Mean Absolute Error: 4632.625889549547\n",
      "Percent of postings predicted within $5,000:  45.00\n",
      "Percent of postings predicted within $10,000:  100.00\n",
      "Mean Squared Error (MSE): 30751098.75718358\n",
      "Mean Absolute Error: 4614.53209268401\n",
      "Percent of postings predicted within $5,000:  45.00\n",
      "Percent of postings predicted within $10,000:  100.00\n",
      "Mean Squared Error (MSE): 30521647.525989085\n",
      "Mean Absolute Error: 4580.280504949116\n",
      "Percent of postings predicted within $5,000:  45.00\n",
      "Percent of postings predicted within $10,000:  100.00\n",
      "Mean Squared Error (MSE): 30099086.242699195\n",
      "Mean Absolute Error: 4524.858603846626\n",
      "Percent of postings predicted within $5,000:  50.00\n",
      "Percent of postings predicted within $10,000:  100.00\n",
      "Mean Squared Error (MSE): 30230136.90089779\n",
      "Mean Absolute Error: 4506.982213257904\n",
      "Percent of postings predicted within $5,000:  50.00\n",
      "Percent of postings predicted within $10,000:  95.00\n",
      "Mean Squared Error (MSE): 30461141.33816243\n",
      "Mean Absolute Error: 4475.659567941385\n",
      "Percent of postings predicted within $5,000:  55.00\n",
      "Percent of postings predicted within $10,000:  95.00\n",
      "Mean Squared Error (MSE): 30968008.70190073\n",
      "Mean Absolute Error: 4600.498240323058\n",
      "Percent of postings predicted within $5,000:  45.00\n",
      "Percent of postings predicted within $10,000:  100.00\n",
      "Mean Squared Error (MSE): 30964103.208976604\n",
      "Mean Absolute Error: 4600.482402939602\n",
      "Percent of postings predicted within $5,000:  45.00\n",
      "Percent of postings predicted within $10,000:  100.00\n",
      "Mean Squared Error (MSE): 30959040.95138098\n",
      "Mean Absolute Error: 4602.7502654354275\n",
      "Percent of postings predicted within $5,000:  45.00\n",
      "Percent of postings predicted within $10,000:  100.00\n",
      "Mean Squared Error (MSE): 30981467.58486539\n",
      "Mean Absolute Error: 4607.777695731691\n",
      "Percent of postings predicted within $5,000:  45.00\n",
      "Percent of postings predicted within $10,000:  100.00\n",
      "Mean Squared Error (MSE): 30974278.85265384\n",
      "Mean Absolute Error: 4610.580741072806\n",
      "Percent of postings predicted within $5,000:  45.00\n",
      "Percent of postings predicted within $10,000:  100.00\n",
      "Mean Squared Error (MSE): 30733206.27549249\n",
      "Mean Absolute Error: 4596.630523062811\n",
      "Percent of postings predicted within $5,000:  45.00\n",
      "Percent of postings predicted within $10,000:  100.00\n",
      "Mean Squared Error (MSE): 30264406.464799177\n",
      "Mean Absolute Error: 4567.6539474139845\n",
      "Percent of postings predicted within $5,000:  45.00\n",
      "Percent of postings predicted within $10,000:  100.00\n",
      "Mean Squared Error (MSE): 29287384.8509201\n",
      "Mean Absolute Error: 4503.836055782745\n",
      "Percent of postings predicted within $5,000:  45.00\n",
      "Percent of postings predicted within $10,000:  100.00\n",
      "Mean Squared Error (MSE): 28201942.519627117\n",
      "Mean Absolute Error: 4426.230711252529\n",
      "Percent of postings predicted within $5,000:  45.00\n",
      "Percent of postings predicted within $10,000:  100.00\n",
      "Mean Squared Error (MSE): 27124546.010186307\n",
      "Mean Absolute Error: 4342.936463014332\n",
      "Percent of postings predicted within $5,000:  50.00\n",
      "Percent of postings predicted within $10,000:  100.00\n",
      "Mean Squared Error (MSE): 26544105.247010846\n",
      "Mean Absolute Error: 4281.15824465201\n",
      "Percent of postings predicted within $5,000:  50.00\n",
      "Percent of postings predicted within $10,000:  100.00\n"
     ]
    }
   ],
   "source": [
    "linear_BOW_preds = rutils.train_and_predict_SVR('linear', X_BOW_train, y_train, X_BOW_test, y_test)\n",
    "poly_BOW_preds = rutils.train_and_predict_SVR('poly', X_BOW_train, y_train, X_BOW_test, y_test)\n",
    "linear_TFIDF_preds = rutils.train_and_predict_SVR('linear', X_TFIDF_train, y_train, X_TFIDF_test, y_test)\n",
    "poly_TFIDF_preds = rutils.train_and_predict_SVR('poly', X_TFIDF_train, y_train, X_TFIDF_test, y_test)"
   ]
  },
  {
   "cell_type": "code",
   "execution_count": 7,
   "metadata": {},
   "outputs": [
    {
     "data": {
      "image/png": "[encoded data removed]",
      "text/plain": [
       "<Figure size 640x480 with 1 Axes>"
      ]
     },
     "metadata": {},
     "output_type": "display_data"
    }
   ],
   "source": [
    "TITLE_PREFIX = 'Performance of '\n",
    "model_name = ' Linear BOW SVR model'\n",
    "rutils.graph_SVR_performance_by_C(TITLE_PREFIX+model_name, linear_BOW_preds, y_test, C_VALUES)\n"
   ]
  },
  {
   "cell_type": "code",
   "execution_count": 8,
   "metadata": {},
   "outputs": [
    {
     "ename": "TypeError",
     "evalue": "graph_SVR_performance_by_C() missing 1 required positional argument: 'C_values'",
     "output_type": "error",
     "traceback": [
      "\u001b[0;31m---------------------------------------------------------------------------\u001b[0m",
      "\u001b[0;31mTypeError\u001b[0m                                 Traceback (most recent call last)",
      "\u001b[1;32m/Users/ryan/Documents/northeastern_MSCS/CS6120/salary_prediction_final_project/svm_model.ipynb Cell 9\u001b[0m line \u001b[0;36m1\n\u001b[0;32m----> <a href='vscode-notebook-cell:/Users/ryan/Documents/northeastern_MSCS/CS6120/salary_prediction_final_project/svm_model.ipynb#X34sZmlsZQ%3D%3D?line=0'>1</a>\u001b[0m rutils\u001b[39m.\u001b[39;49mgraph_SVR_performance_by_C(poly_BOW_preds, y_test, C_VALUES)\n",
      "\u001b[0;31mTypeError\u001b[0m: graph_SVR_performance_by_C() missing 1 required positional argument: 'C_values'"
     ]
    }
   ],
   "source": [
    "rutils.graph_SVR_performance_by_C(poly_BOW_preds, y_test, C_VALUES)"
   ]
  },
  {
   "cell_type": "code",
   "execution_count": null,
   "metadata": {},
   "outputs": [],
   "source": [
    "rutils.graph_SVR_performance_by_C(linear_TFIDF_preds, y_test, C_VALUES)"
   ]
  },
  {
   "cell_type": "code",
   "execution_count": null,
   "metadata": {},
   "outputs": [],
   "source": [
    "rutils.graph_SVR_performance_by_C(poly_TFIDF_preds, y_test, C_VALUES)"
   ]
  }
 ],
 "metadata": {
  "kernelspec": {
   "display_name": "Python 3",
   "language": "python",
   "name": "python3"
  },
  "language_info": {
   "codemirror_mode": {
    "name": "ipython",
    "version": 3
   },
   "file_extension": ".py",
   "mimetype": "text/x-python",
   "name": "python",
   "nbconvert_exporter": "python",
   "pygments_lexer": "ipython3",
   "version": "3.12.0"
  }
 },
 "nbformat": 4,
 "nbformat_minor": 2
}
