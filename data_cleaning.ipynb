{
 "cells": [
  {
   "cell_type": "code",
   "execution_count": 15,
   "metadata": {},
   "outputs": [
    {
     "name": "stderr",
     "output_type": "stream",
     "text": [
      "[nltk_data] Downloading package stopwords to\n",
      "[nltk_data]     /Users/maxnbf/nltk_data...\n",
      "[nltk_data]   Package stopwords is already up-to-date!\n"
     ]
    }
   ],
   "source": [
    "import pandas as pd\n",
    "import nltk\n",
    "from nltk.tokenize import word_tokenize\n",
    "import re\n",
    "from nltk.corpus import stopwords\n",
    "from nltk.tokenize import word_tokenize\n",
    "from string import punctuation\n",
    "import math\n",
    "from nltk.stem import WordNetLemmatizer\n",
    "from nltk.stem import PorterStemmer\n",
    "\n",
    "nltk.download(\"stopwords\")\n",
    "stop_words = set(stopwords.words(\"english\"))\n"
   ]
  },
  {
   "cell_type": "code",
   "execution_count": 16,
   "metadata": {},
   "outputs": [],
   "source": [
    "\n",
    "def calc_salary(row):\n",
    "    dct = {\n",
    "        \"YEARLY\": 1,\n",
    "        \"MONTHLY\": 12,\n",
    "        \"HOURLY\": 2000\n",
    "    }\n",
    "\n",
    "    mx = row[\"max_salary\"]\n",
    "    mn = row[\"min_salary\"]\n",
    "    md = row[\"med_salary\"]\n",
    "\n",
    "    if not math.isnan(md):\n",
    "        return dct[row[\"pay_period\"]] * md\n",
    "    if not math.isnan(mx) and not math.isnan(mn):\n",
    "        return dct[row[\"pay_period\"]] * (mx + mn)/2\n",
    "\n",
    "    return None"
   ]
  },
  {
   "cell_type": "code",
   "execution_count": 17,
   "metadata": {},
   "outputs": [],
   "source": [
    "df = pd.read_csv(\"job_postings.csv\")"
   ]
  },
  {
   "cell_type": "code",
   "execution_count": 18,
   "metadata": {},
   "outputs": [
    {
     "data": {
      "text/plain": [
       "(6502, 2)"
      ]
     },
     "execution_count": 18,
     "metadata": {},
     "output_type": "execute_result"
    }
   ],
   "source": [
    "df = df.dropna(subset=[\"description\", \"pay_period\"])\n",
    "\n",
    "df[\"annual_salary\"] = df.apply(calc_salary, axis=1)\n",
    "selected_columns = [\"annual_salary\", \"description\"]\n",
    "df = df[selected_columns]\n",
    "df.shape"
   ]
  },
  {
   "cell_type": "code",
   "execution_count": 19,
   "metadata": {},
   "outputs": [],
   "source": [
    "lemmatizer = WordNetLemmatizer()\n",
    "stemmer = PorterStemmer()\n",
    "\n",
    "def remove_stopwords_numbers_punctionation_and_lemmatize(desc):\n",
    "\n",
    "    #remove numbers, and links. Confirm this works\n",
    "    desc = re.sub('[0-9]+\\S+|\\s\\d+\\s|\\w+[0-9]+|\\w+[\\*]+.*|\\s[\\*]+\\s|www\\.[^\\s]+','', desc)\n",
    "    words = word_tokenize(desc)\n",
    "    filtered = list(filter(lambda w: w.lower() not in stop_words, words))\n",
    "    filtered = list(filter(lambda w: w not in punctuation, filtered))\n",
    "\n",
    "\n",
    "    # filtered = [lemmatizer.lemmatize(word) for word in filtered]\n",
    "    # filtered = [stemmer.stem(word) for word in filtered]\n",
    "    return ' '.join(filtered)\n",
    "\n",
    "df[\"description\"] = df[\"description\"].apply(remove_stopwords_numbers_punctionation_and_lemmatize)\n"
   ]
  },
  {
   "cell_type": "code",
   "execution_count": 20,
   "metadata": {},
   "outputs": [
    {
     "name": "stdout",
     "output_type": "stream",
     "text": [
      "(6502, 2)\n",
      "(5654, 2)\n"
     ]
    }
   ],
   "source": [
    "print(df.shape)\n",
    "df = df.drop_duplicates()\n",
    "print(df.shape)"
   ]
  },
  {
   "cell_type": "code",
   "execution_count": 21,
   "metadata": {},
   "outputs": [],
   "source": [
    "df.to_csv(\"cleaned.csv\", index=False)"
   ]
  }
 ],
 "metadata": {
  "kernelspec": {
   "display_name": "base",
   "language": "python",
   "name": "python3"
  },
  "language_info": {
   "codemirror_mode": {
    "name": "ipython",
    "version": 3
   },
   "file_extension": ".py",
   "mimetype": "text/x-python",
   "name": "python",
   "nbconvert_exporter": "python",
   "pygments_lexer": "ipython3",
   "version": "3.11.4"
  },
  "orig_nbformat": 4
 },
 "nbformat": 4,
 "nbformat_minor": 2
}
